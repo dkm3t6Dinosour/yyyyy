{
 "cells": [
  {
   "cell_type": "code",
   "execution_count": 1,
   "id": "3dd8ddc3",
   "metadata": {},
   "outputs": [],
   "source": [
    "a = [0, 1, 2, 3]"
   ]
  },
  {
   "cell_type": "code",
   "execution_count": 3,
   "id": "85684143",
   "metadata": {},
   "outputs": [],
   "source": [
    "a[1: 3] = [5,'AB']"
   ]
  },
  {
   "cell_type": "code",
   "execution_count": 4,
   "id": "98abf69b",
   "metadata": {},
   "outputs": [],
   "source": [
    "a[2: ] = []"
   ]
  },
  {
   "cell_type": "code",
   "execution_count": 5,
   "id": "e90905e1",
   "metadata": {},
   "outputs": [],
   "source": [
    "a[1: 1] = [8, 9]"
   ]
  },
  {
   "cell_type": "code",
   "execution_count": 6,
   "id": "06829780",
   "metadata": {},
   "outputs": [],
   "source": [
    "a[1] = [9]"
   ]
  },
  {
   "cell_type": "code",
   "execution_count": 9,
   "id": "fd7a569c",
   "metadata": {},
   "outputs": [
    {
     "data": {
      "text/plain": [
       "[[9], 9]"
      ]
     },
     "execution_count": 9,
     "metadata": {},
     "output_type": "execute_result"
    }
   ],
   "source": [
    "a[1:3]"
   ]
  },
  {
   "cell_type": "code",
   "execution_count": 15,
   "id": "c5b77f02",
   "metadata": {},
   "outputs": [],
   "source": [
    "a[2:] = []"
   ]
  },
  {
   "cell_type": "code",
   "execution_count": 16,
   "id": "7613e83e",
   "metadata": {},
   "outputs": [
    {
     "data": {
      "text/plain": [
       "[0, 8]"
      ]
     },
     "execution_count": 16,
     "metadata": {},
     "output_type": "execute_result"
    }
   ],
   "source": [
    "a"
   ]
  },
  {
   "cell_type": "code",
   "execution_count": 19,
   "id": "e74315e1",
   "metadata": {},
   "outputs": [],
   "source": [
    "b= 32\n",
    "c='eee' "
   ]
  },
  {
   "cell_type": "code",
   "execution_count": 20,
   "id": "5eb7ccee",
   "metadata": {},
   "outputs": [
    {
     "data": {
      "text/plain": [
       "(int, str)"
      ]
     },
     "execution_count": 20,
     "metadata": {},
     "output_type": "execute_result"
    }
   ],
   "source": [
    "type(b),type(c)"
   ]
  },
  {
   "cell_type": "code",
   "execution_count": null,
   "id": "e49ba293",
   "metadata": {},
   "outputs": [],
   "source": []
  }
 ],
 "metadata": {
  "kernelspec": {
   "display_name": "Python 3 (ipykernel)",
   "language": "python",
   "name": "python3"
  },
  "language_info": {
   "codemirror_mode": {
    "name": "ipython",
    "version": 3
   },
   "file_extension": ".py",
   "mimetype": "text/x-python",
   "name": "python",
   "nbconvert_exporter": "python",
   "pygments_lexer": "ipython3",
   "version": "3.11.4"
  }
 },
 "nbformat": 4,
 "nbformat_minor": 5
}
